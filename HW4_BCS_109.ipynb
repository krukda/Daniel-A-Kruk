{
  "nbformat": 4,
  "nbformat_minor": 0,
  "metadata": {
    "colab": {
      "name": "HW4 BCS 109",
      "provenance": [],
      "authorship_tag": "ABX9TyP66qSESWhpWtBKXhCzvKnW",
      "include_colab_link": true
    },
    "kernelspec": {
      "name": "python3",
      "display_name": "Python 3"
    },
    "language_info": {
      "name": "python"
    }
  },
  "cells": [
    {
      "cell_type": "markdown",
      "metadata": {
        "id": "view-in-github",
        "colab_type": "text"
      },
      "source": [
        "<a href=\"https://colab.research.google.com/github/krukda/Daniel-A-Kruk/blob/main/HW4_BCS_109.ipynb\" target=\"_parent\"><img src=\"https://colab.research.google.com/assets/colab-badge.svg\" alt=\"Open In Colab\"/></a>"
      ]
    },
    {
      "cell_type": "markdown",
      "metadata": {
        "id": "bvBITMZzedZo"
      },
      "source": [
        "#Software Company Inc."
      ]
    },
    {
      "cell_type": "code",
      "metadata": {
        "colab": {
          "base_uri": "https://localhost:8080/"
        },
        "id": "da6zY0QHejA3",
        "outputId": "eb09a317-c673-45c2-cb01-7503cf23850e"
      },
      "source": [
        "package = 99\n",
        "quantity = int(input(\"How many would you like to purchase?\\n\"))\n",
        "discount = 0\n",
        "\n",
        "if quantity >= 10 and quantity <=19:\n",
        "  discount = .1\n",
        "elif quantity >= 20 and quantity <=49:\n",
        "  discount = .2\n",
        "elif quantity >=50 and quntity <=99:\n",
        "  discount = .3\n",
        "elif quantity >= 100:\n",
        "  discount = .4\n",
        "\n",
        "total_amount = package*quantity*(1-discount)\n",
        "\n",
        "print(\"The discount saved is \", discount*100, \"%.\")\n",
        "print(\"The total price is: \",total_amount)"
      ],
      "execution_count": null,
      "outputs": [
        {
          "output_type": "stream",
          "name": "stdout",
          "text": [
            "How many would you like to purchase?\n",
            "10\n",
            "The discount saved is  10.0 %.\n",
            "The total price is:  891.0\n"
          ]
        }
      ]
    },
    {
      "cell_type": "markdown",
      "metadata": {
        "id": "CK3QeevA2exz"
      },
      "source": [
        ""
      ]
    },
    {
      "cell_type": "markdown",
      "metadata": {
        "id": "6KSyPP-m2878"
      },
      "source": [
        "#Fast Freight Shipping Co."
      ]
    },
    {
      "cell_type": "code",
      "metadata": {
        "colab": {
          "base_uri": "https://localhost:8080/"
        },
        "id": "u62JzcBi25IS",
        "outputId": "76e8a965-40ca-4d2a-ba7f-27363f7bbaf3"
      },
      "source": [
        "userWeightofPackage = int( input(\"please enter the weight of the package:\"))\n",
        "\n",
        "if userWeightofPackage <= 2:\n",
        "  shippingCharges = 1.50\n",
        "elif userWeightofPackage < 7:\n",
        "  shippingCharges = 3.00\n",
        "elif userWeightofPackage < 11:\n",
        "  shippingCharges = 4.00\n",
        "else:\n",
        "    shippingCharges = 4.75\n",
        "print( \"\\nFor a package weighing\" + str( userWeightofPackage ) + \\\n",
        "      \", you'll pay $\" + format( shippingCharges, \",.2f\" ) + \" per pound.\" )\n",
        "\n"
      ],
      "execution_count": 6,
      "outputs": [
        {
          "output_type": "stream",
          "name": "stdout",
          "text": [
            "please enter the weight of the package:4\n",
            "\n",
            "For a package weighing4, you'll pay $3.00 per pound.\n"
          ]
        }
      ]
    }
  ]
}