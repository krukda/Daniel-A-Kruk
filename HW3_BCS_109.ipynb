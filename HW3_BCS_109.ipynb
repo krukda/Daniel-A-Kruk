{
  "nbformat": 4,
  "nbformat_minor": 0,
  "metadata": {
    "colab": {
      "name": "HW3 BCS 109",
      "provenance": [],
      "collapsed_sections": [],
      "authorship_tag": "ABX9TyN32BA1sCm667nQrb8cvoFd",
      "include_colab_link": true
    },
    "kernelspec": {
      "name": "python3",
      "display_name": "Python 3"
    },
    "language_info": {
      "name": "python"
    }
  },
  "cells": [
    {
      "cell_type": "markdown",
      "metadata": {
        "id": "view-in-github",
        "colab_type": "text"
      },
      "source": [
        "<a href=\"https://colab.research.google.com/github/krukda/Daniel-A-Kruk/blob/main/HW3_BCS_109.ipynb\" target=\"_parent\"><img src=\"https://colab.research.google.com/assets/colab-badge.svg\" alt=\"Open In Colab\"/></a>"
      ]
    },
    {
      "cell_type": "markdown",
      "metadata": {
        "id": "PUGeGhsrr4Hq"
      },
      "source": [
        "# Investment Stategy\n",
        "\n",
        "This sheet will contain the following financial vocabulary\n",
        "\n",
        "\n",
        "\n",
        "* future value\n",
        "* present value\n",
        "* interest rate\n",
        "* principal"
      ]
    },
    {
      "cell_type": "code",
      "metadata": {
        "colab": {
          "base_uri": "https://localhost:8080/"
        },
        "id": "oxQTW3EIsQnq",
        "outputId": "80290769-e73b-494c-ba78-9fb4de9b8742"
      },
      "source": [
        "interest_rate = .05\n",
        "years = 10\n",
        "principal = 100\n",
        "output = principal*(1+interest_rate)**years\n",
        "print(f'The output is {output}')"
      ],
      "execution_count": null,
      "outputs": [
        {
          "output_type": "stream",
          "name": "stdout",
          "text": [
            "The output is 162.8894626777442\n"
          ]
        }
      ]
    },
    {
      "cell_type": "code",
      "metadata": {
        "id": "DzP1jLSGt2UT",
        "colab": {
          "base_uri": "https://localhost:8080/"
        },
        "outputId": "de25ac59-4271-4000-c52d-828c4bac4143"
      },
      "source": [
        "fv = float(input(\"What is your target goal?\"))\n",
        "num_years = float(input(\"How many years will you invest?\"))\n",
        "interest_rate = float(input(\"What will the interest rate be?\")) \n",
        "\n",
        "present_value = fv/(1+interest_rate)**num_years\n",
        "print(\"The present value is\", present_value)\n"
      ],
      "execution_count": 3,
      "outputs": [
        {
          "output_type": "stream",
          "name": "stdout",
          "text": [
            "What is your target goal?162.89\n",
            "How many years will you invest?10\n",
            "What will the interest rate be?.05\n",
            "The present value is 100.00032986925424\n"
          ]
        }
      ]
    },
    {
      "cell_type": "markdown",
      "metadata": {
        "id": "pLMeU4VJGCBy"
      },
      "source": [
        "# This presentation showed us how to do the following\n",
        "* Invest our money wisely\n",
        "* Showed a good interest rate\n",
        "* Showed our money outcome at the end\n"
      ]
    }
  ]
}