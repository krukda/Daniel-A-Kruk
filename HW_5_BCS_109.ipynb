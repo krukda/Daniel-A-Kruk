{
  "nbformat": 4,
  "nbformat_minor": 0,
  "metadata": {
    "colab": {
      "name": "HW 5 BCS 109",
      "provenance": [],
      "authorship_tag": "ABX9TyN9qf3SYt9jUG1jK6st4QA0",
      "include_colab_link": true
    },
    "kernelspec": {
      "name": "python3",
      "display_name": "Python 3"
    },
    "language_info": {
      "name": "python"
    }
  },
  "cells": [
    {
      "cell_type": "markdown",
      "metadata": {
        "id": "view-in-github",
        "colab_type": "text"
      },
      "source": [
        "<a href=\"https://colab.research.google.com/github/krukda/Daniel-A-Kruk/blob/main/HW_5_BCS_109.ipynb\" target=\"_parent\"><img src=\"https://colab.research.google.com/assets/colab-badge.svg\" alt=\"Open In Colab\"/></a>"
      ]
    },
    {
      "cell_type": "code",
      "metadata": {
        "id": "4HfDQ-udzGvW"
      },
      "source": [
        "#check that the age given is a number and enforce this\n",
        "age = input(\"Please give me a number for your age\\t\")\n",
        "while not(age.isdigit()):\n",
        "  age = input(\"Please give me a number for your age\\t\")\n",
        "\n",
        "#convert the age to a number\n",
        "age = int(age)\n",
        "\n",
        "#check that the name is a bunch of letters and not numbers and enforce this\n",
        "name = input(\"Please give me your name\\t\")\n",
        "while not(name.isalpha()):\n",
        "  name = input(\"Please give me your name\\t\")\n",
        "\n",
        "#create two variable to keep track of my progress\n",
        "counter = 0\n",
        "accepted = True\n",
        "\n",
        "#use a while loop to give three chances to give an acceptable age\n",
        "while (age < 0 or age > 100):\n",
        "  counter = counter + 1\n",
        "  if (counter > 3):\n",
        "    accepted = False\n",
        "    break\n",
        "  age = int(input(\"Please give me a number for your age\\t\")\n",
        "\n",
        "if (accepted):\n",
        "  print(\"Acceptable:\", name, \" \", age)\n",
        "else:\n",
        "  print(\"Unaccetable\")"
      ],
      "execution_count": null,
      "outputs": []
    },
    {
      "cell_type": "code",
      "metadata": {
        "id": "Y-M1x6UuzRqx"
      },
      "source": [
        ""
      ],
      "execution_count": null,
      "outputs": []
    }
  ]
}