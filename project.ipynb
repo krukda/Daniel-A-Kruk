{
  "nbformat": 4,
  "nbformat_minor": 0,
  "metadata": {
    "colab": {
      "name": "project",
      "provenance": [],
      "include_colab_link": true
    },
    "kernelspec": {
      "name": "python3",
      "display_name": "Python 3"
    },
    "language_info": {
      "name": "python"
    }
  },
  "cells": [
    {
      "cell_type": "markdown",
      "metadata": {
        "id": "view-in-github",
        "colab_type": "text"
      },
      "source": [
        "<a href=\"https://colab.research.google.com/github/krukda/Daniel-A-Kruk/blob/main/project.ipynb\" target=\"_parent\"><img src=\"https://colab.research.google.com/assets/colab-badge.svg\" alt=\"Open In Colab\"/></a>"
      ]
    },
    {
      "cell_type": "code",
      "execution_count": null,
      "metadata": {
        "colab": {
          "base_uri": "https://localhost:8080/",
          "height": 206
        },
        "id": "snWhdLje_cml",
        "outputId": "b715f629-165f-4b9a-bd54-6618be44a679"
      },
      "outputs": [
        {
          "output_type": "execute_result",
          "data": {
            "text/html": [
              "<div>\n",
              "<style scoped>\n",
              "    .dataframe tbody tr th:only-of-type {\n",
              "        vertical-align: middle;\n",
              "    }\n",
              "\n",
              "    .dataframe tbody tr th {\n",
              "        vertical-align: top;\n",
              "    }\n",
              "\n",
              "    .dataframe thead th {\n",
              "        text-align: right;\n",
              "    }\n",
              "</style>\n",
              "<table border=\"1\" class=\"dataframe\">\n",
              "  <thead>\n",
              "    <tr style=\"text-align: right;\">\n",
              "      <th></th>\n",
              "      <th>last_name</th>\n",
              "      <th>first_name</th>\n",
              "      <th>player_id</th>\n",
              "      <th>year</th>\n",
              "      <th>player_age</th>\n",
              "      <th>ff_avg_speed</th>\n",
              "      <th>sl_avg_speed</th>\n",
              "      <th>ch_avg_speed</th>\n",
              "      <th>cu_avg_speed</th>\n",
              "      <th>Unnamed: 9</th>\n",
              "    </tr>\n",
              "  </thead>\n",
              "  <tbody>\n",
              "    <tr>\n",
              "      <th>0</th>\n",
              "      <td>Sabathia</td>\n",
              "      <td>CC</td>\n",
              "      <td>282332</td>\n",
              "      <td>2019</td>\n",
              "      <td>39</td>\n",
              "      <td>88.8</td>\n",
              "      <td>79.2</td>\n",
              "      <td>82.7</td>\n",
              "      <td>NaN</td>\n",
              "      <td>NaN</td>\n",
              "    </tr>\n",
              "    <tr>\n",
              "      <th>1</th>\n",
              "      <td>Rodney</td>\n",
              "      <td>Fernando</td>\n",
              "      <td>407845</td>\n",
              "      <td>2019</td>\n",
              "      <td>42</td>\n",
              "      <td>94.4</td>\n",
              "      <td>86.3</td>\n",
              "      <td>83.0</td>\n",
              "      <td>NaN</td>\n",
              "      <td>NaN</td>\n",
              "    </tr>\n",
              "    <tr>\n",
              "      <th>2</th>\n",
              "      <td>Perez</td>\n",
              "      <td>Oliver</td>\n",
              "      <td>424144</td>\n",
              "      <td>2019</td>\n",
              "      <td>38</td>\n",
              "      <td>91.5</td>\n",
              "      <td>78.5</td>\n",
              "      <td>NaN</td>\n",
              "      <td>NaN</td>\n",
              "      <td>NaN</td>\n",
              "    </tr>\n",
              "    <tr>\n",
              "      <th>3</th>\n",
              "      <td>Wainwright</td>\n",
              "      <td>Adam</td>\n",
              "      <td>425794</td>\n",
              "      <td>2019</td>\n",
              "      <td>38</td>\n",
              "      <td>89.6</td>\n",
              "      <td>NaN</td>\n",
              "      <td>83.9</td>\n",
              "      <td>74.9</td>\n",
              "      <td>NaN</td>\n",
              "    </tr>\n",
              "    <tr>\n",
              "      <th>4</th>\n",
              "      <td>Greinke</td>\n",
              "      <td>Zack</td>\n",
              "      <td>425844</td>\n",
              "      <td>2019</td>\n",
              "      <td>36</td>\n",
              "      <td>89.9</td>\n",
              "      <td>83.7</td>\n",
              "      <td>87.4</td>\n",
              "      <td>70.6</td>\n",
              "      <td>NaN</td>\n",
              "    </tr>\n",
              "  </tbody>\n",
              "</table>\n",
              "</div>"
            ],
            "text/plain": [
              "    last_name  first_name  player_id  ...  ch_avg_speed  cu_avg_speed  Unnamed: 9\n",
              "0    Sabathia          CC     282332  ...          82.7           NaN         NaN\n",
              "1      Rodney    Fernando     407845  ...          83.0           NaN         NaN\n",
              "2       Perez      Oliver     424144  ...           NaN           NaN         NaN\n",
              "3  Wainwright        Adam     425794  ...          83.9          74.9         NaN\n",
              "4     Greinke        Zack     425844  ...          87.4          70.6         NaN\n",
              "\n",
              "[5 rows x 10 columns]"
            ]
          },
          "metadata": {},
          "execution_count": 70
        }
      ],
      "source": [
        "import pandas as pd\n",
        "import matplotlib.pyplot as plt\n",
        "\n",
        "df = pd.read_csv(\"https://raw.githubusercontent.com/zipqt/bcs109/main/stats.csv\")\n",
        "\n",
        "\n",
        "#prints the data \n",
        "df.head()\n"
      ]
    },
    {
      "cell_type": "code",
      "source": [
        "#prints the amount of null values for each attribute for the 2021 data\n",
        "\n",
        "df.isnull().sum()\n"
      ],
      "metadata": {
        "colab": {
          "base_uri": "https://localhost:8080/"
        },
        "id": "OGGkxYeJAaDZ",
        "outputId": "36dee7b4-5703-4c52-d4ac-3dc0d6cb844f"
      },
      "execution_count": null,
      "outputs": [
        {
          "output_type": "execute_result",
          "data": {
            "text/plain": [
              "last_name       0\n",
              " first_name     0\n",
              "player_id       0\n",
              "year            0\n",
              "player_age      0\n",
              "ff_avg_speed    0\n",
              "sl_avg_speed    0\n",
              "ch_avg_speed    0\n",
              "Unnamed: 9      0\n",
              "dtype: int64"
            ]
          },
          "metadata": {},
          "execution_count": 53
        }
      ]
    },
    {
      "cell_type": "code",
      "source": [
        "#deletes collumns with only NULL values\n",
        "#also deletes any players who have missing values to make the data easier to work with\n",
        "\n",
        "df = df.drop('cu_avg_speed', 1)\n",
        "df = df.drop('Unnamed: 9', 1)\n",
        "df = df.drop('player_id', 1)\n",
        "df = df.dropna()\n",
        "df.head()\n"
      ],
      "metadata": {
        "colab": {
          "base_uri": "https://localhost:8080/",
          "height": 206
        },
        "id": "KQptzfkoJOC3",
        "outputId": "1d55c0de-38d0-48f6-d3a3-fca97449e32e"
      },
      "execution_count": null,
      "outputs": [
        {
          "output_type": "execute_result",
          "data": {
            "text/html": [
              "<div>\n",
              "<style scoped>\n",
              "    .dataframe tbody tr th:only-of-type {\n",
              "        vertical-align: middle;\n",
              "    }\n",
              "\n",
              "    .dataframe tbody tr th {\n",
              "        vertical-align: top;\n",
              "    }\n",
              "\n",
              "    .dataframe thead th {\n",
              "        text-align: right;\n",
              "    }\n",
              "</style>\n",
              "<table border=\"1\" class=\"dataframe\">\n",
              "  <thead>\n",
              "    <tr style=\"text-align: right;\">\n",
              "      <th></th>\n",
              "      <th>last_name</th>\n",
              "      <th>first_name</th>\n",
              "      <th>year</th>\n",
              "      <th>player_age</th>\n",
              "      <th>ff_avg_speed</th>\n",
              "      <th>sl_avg_speed</th>\n",
              "      <th>ch_avg_speed</th>\n",
              "    </tr>\n",
              "  </thead>\n",
              "  <tbody>\n",
              "    <tr>\n",
              "      <th>0</th>\n",
              "      <td>Sabathia</td>\n",
              "      <td>CC</td>\n",
              "      <td>2019</td>\n",
              "      <td>39</td>\n",
              "      <td>88.8</td>\n",
              "      <td>79.2</td>\n",
              "      <td>82.7</td>\n",
              "    </tr>\n",
              "    <tr>\n",
              "      <th>1</th>\n",
              "      <td>Rodney</td>\n",
              "      <td>Fernando</td>\n",
              "      <td>2019</td>\n",
              "      <td>42</td>\n",
              "      <td>94.4</td>\n",
              "      <td>86.3</td>\n",
              "      <td>83.0</td>\n",
              "    </tr>\n",
              "    <tr>\n",
              "      <th>4</th>\n",
              "      <td>Greinke</td>\n",
              "      <td>Zack</td>\n",
              "      <td>2019</td>\n",
              "      <td>36</td>\n",
              "      <td>89.9</td>\n",
              "      <td>83.7</td>\n",
              "      <td>87.4</td>\n",
              "    </tr>\n",
              "    <tr>\n",
              "      <th>5</th>\n",
              "      <td>Jackson</td>\n",
              "      <td>Edwin</td>\n",
              "      <td>2019</td>\n",
              "      <td>36</td>\n",
              "      <td>93.5</td>\n",
              "      <td>85.7</td>\n",
              "      <td>87.0</td>\n",
              "    </tr>\n",
              "    <tr>\n",
              "      <th>6</th>\n",
              "      <td>Santana</td>\n",
              "      <td>Ervin</td>\n",
              "      <td>2019</td>\n",
              "      <td>37</td>\n",
              "      <td>90.0</td>\n",
              "      <td>82.2</td>\n",
              "      <td>83.4</td>\n",
              "    </tr>\n",
              "  </tbody>\n",
              "</table>\n",
              "</div>"
            ],
            "text/plain": [
              "  last_name  first_name  year  ...  ff_avg_speed  sl_avg_speed  ch_avg_speed\n",
              "0  Sabathia          CC  2019  ...          88.8          79.2          82.7\n",
              "1    Rodney    Fernando  2019  ...          94.4          86.3          83.0\n",
              "4   Greinke        Zack  2019  ...          89.9          83.7          87.4\n",
              "5   Jackson       Edwin  2019  ...          93.5          85.7          87.0\n",
              "6   Santana       Ervin  2019  ...          90.0          82.2          83.4\n",
              "\n",
              "[5 rows x 7 columns]"
            ]
          },
          "metadata": {},
          "execution_count": 67
        }
      ]
    },
    {
      "cell_type": "code",
      "source": [
        "#looking at the two plots, we can see they follow a similar trend, before and after the ban.\n",
        "\n",
        "df.plot.scatter(x=\"year\", y=\"ff_avg_speed\", alpha=0.5)\n"
      ],
      "metadata": {
        "colab": {
          "base_uri": "https://localhost:8080/",
          "height": 296
        },
        "id": "s3WYiscxOq_8",
        "outputId": "c668b5a8-a65b-4ab2-c8b1-e132d85cad06"
      },
      "execution_count": null,
      "outputs": [
        {
          "output_type": "execute_result",
          "data": {
            "text/plain": [
              "<matplotlib.axes._subplots.AxesSubplot at 0x7f5087680a50>"
            ]
          },
          "metadata": {},
          "execution_count": 72
        },
        {
          "output_type": "display_data",
          "data": {
            "image/png": "[encoded data removed]",
            "text/plain": [
              "<Figure size 432x288 with 1 Axes>"
            ]
          },
          "metadata": {
            "needs_background": "light"
          }
        }
      ]
    },
    {
      "cell_type": "code",
      "source": [
        "df.plot.scatter(x=\"year\", y=\"sl_avg_speed\", alpha=0.5)"
      ],
      "metadata": {
        "colab": {
          "base_uri": "https://localhost:8080/",
          "height": 296
        },
        "id": "UHPdJ_4bRs-7",
        "outputId": "0bc91e34-339f-4173-d36e-d672fed34a15"
      },
      "execution_count": null,
      "outputs": [
        {
          "output_type": "execute_result",
          "data": {
            "text/plain": [
              "<matplotlib.axes._subplots.AxesSubplot at 0x7f508763b450>"
            ]
          },
          "metadata": {},
          "execution_count": 73
        },
        {
          "output_type": "display_data",
          "data": {
            "image/png": "[encoded data removed]",
            "text/plain": [
              "<Figure size 432x288 with 1 Axes>"
            ]
          },
          "metadata": {
            "needs_background": "light"
          }
        }
      ]
    }
  ]
}