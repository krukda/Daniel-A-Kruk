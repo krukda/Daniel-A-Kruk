{
  "nbformat": 4,
  "nbformat_minor": 0,
  "metadata": {
    "colab": {
      "name": "Project BCS109",
      "provenance": [],
      "include_colab_link": true
    },
    "kernelspec": {
      "name": "python3",
      "display_name": "Python 3"
    },
    "language_info": {
      "name": "python"
    }
  },
  "cells": [
    {
      "cell_type": "markdown",
      "metadata": {
        "id": "view-in-github",
        "colab_type": "text"
      },
      "source": [
        "<a href=\"https://colab.research.google.com/github/krukda/Daniel-A-Kruk/blob/main/Project_BCS109.ipynb\" target=\"_parent\"><img src=\"https://colab.research.google.com/assets/colab-badge.svg\" alt=\"Open In Colab\"/></a>"
      ]
    },
    {
      "cell_type": "markdown",
      "metadata": {
        "id": "lZuHHndtAKX4"
      },
      "source": [
        "# Introduction\n",
        "This section of our project will look at spin rate in Major League Baseball as of June 21, 2021 to October 3, 2021. From March 1, 2021 to June 20, 2021, umpires did not check pitchers for any foreign substance starting on June 21, 2021 umpires started checking pitchers for foreign substances in between innings every time they pitched, which continued into the playoffs, but for the sake of this project we are going to only look until the end of the regular season which ended on October 3rd.\n",
        "\n",
        "\n",
        "\n",
        "# Research Questions\n",
        "Questions: How has the ban on foreign substances affected the spin rate of pitches in the MLB? Was the difference significant enough to warrant the ban?\n",
        "\n",
        "Explanation: We will analyze the change in spin rate from before and after the foreign substances ban. We will then make a decision based on the data whether or not the ban was justified. This is relevant because the ban sparked a debate and we can come to a fair conclusion based on the data presented to us.\n"
      ]
    },
    {
      "cell_type": "markdown",
      "metadata": {
        "id": "9H95tyVQobDb"
      },
      "source": [
        "# Data to be Used\n",
        "\n",
        "This data shows Major League pitchers' spin rate percentages, strikeouts per 9 innings, home runs allowed, and success of the pitcher by looking at pitching categories such as the ones mentioned above. We found the data using this website. https://baseballsavant.mlb.com/leaderboard/active-spin\n",
        "\n",
        "https://github.com/krukda/Daniel-A-Kruk/blob/main/Project_BCS109.ipynb\n"
      ]
    },
    {
      "cell_type": "markdown",
      "metadata": {
        "id": "vlIJFEXWLxpR"
      },
      "source": [
        "# Approach\n",
        "\n",
        "We will start by collecting data on pitchers’ average spin rates throughout the course of their careers. We will check for irregularities in the data such as empty inputs as well as numbers that seem too high or low to be correct. The most relevant data will likely be the average spin rate for each player, and the year each spin rate was recorded. Using these two variables, we can create scatter plots to compare their spin rates before and after the foreign substances ban. Other plots such as tables and line plots will likely be incorporated to better visualize the data. Considering the low variable count, not many graphs will be needed as the data should be easy to read. After visualizing the data, we can decide if we should move forward with our conclusion. We will either state the foreign substance ban was justified, or argue against it depending on what the data shows us. If we decide that we need more data, we can cite other sources as well as create more complex visualizations for our data."
      ]
    },
    {
      "cell_type": "markdown",
      "metadata": {
        "id": "aP-n5WClubRe"
      },
      "source": [
        "\n"
      ]
    }
  ]
}